{
 "cells": [
  {
   "cell_type": "markdown",
   "metadata": {},
   "source": [
    "                    Kata 4"
   ]
  },
  {
   "cell_type": "markdown",
   "metadata": {},
   "source": [
    "     Ejercicio 1"
   ]
  },
  {
   "cell_type": "code",
   "execution_count": 53,
   "metadata": {},
   "outputs": [
    {
     "data": {
      "text/plain": [
       "['Interesting facts about the Moon',\n",
       " \" The Moon is Earth's only satellite\",\n",
       " ' There are several interesting facts about the Moon and how it affects life here on Earth',\n",
       " ' On average, the Moon moves 4cm away from the Earth every year',\n",
       " ' This yearly drift is not significant enough to cause immediate effects on Earth',\n",
       " ' The highest daylight temperature of the Moon is 127 C',\n",
       " '']"
      ]
     },
     "execution_count": 53,
     "metadata": {},
     "output_type": "execute_result"
    }
   ],
   "source": [
    "texto = \"\"\"Interesting facts about the Moon. The Moon is Earth's only satellite. There are several interesting facts about the Moon and how it affects life here on Earth. On average, the Moon moves 4cm away from the Earth every year. This yearly drift is not significant enough to cause immediate effects on Earth. The highest daylight temperature of the Moon is 127 C.\"\"\"\n",
    "texto_dividido=texto.split('.')\n",
    "texto_dividido\n"
   ]
  },
  {
   "cell_type": "code",
   "execution_count": 55,
   "metadata": {},
   "outputs": [
    {
     "name": "stdout",
     "output_type": "stream",
     "text": [
      " On average, the Moon moves 4cm away from the Earth every year\n",
      " The highest daylight temperature of the Moon is 127 C\n"
     ]
    }
   ],
   "source": [
    "palabras_clave=[\"average\", \"temperature\" , \"distance\"]\n",
    "for enunciado in texto_dividido:\n",
    "    for palabra in palabras_clave:\n",
    "        if palabra in enunciado:\n",
    "            print (enunciado)\n",
    "            break"
   ]
  },
  {
   "cell_type": "code",
   "execution_count": 56,
   "metadata": {},
   "outputs": [
    {
     "name": "stdout",
     "output_type": "stream",
     "text": [
      " On average, the Moon moves 4cm away from the Earth every year\n",
      " The highest daylight temperature of the Moon is 127 Celcius\n"
     ]
    }
   ],
   "source": [
    "for enunciado in texto_dividido:\n",
    "    for palabra in palabras_clave:\n",
    "        if palabra in enunciado:\n",
    "            print (enunciado.replace('C','Celcius'))\n",
    "            break"
   ]
  },
  {
   "cell_type": "markdown",
   "metadata": {},
   "source": [
    "        Ejercicio 2"
   ]
  },
  {
   "cell_type": "code",
   "execution_count": 53,
   "metadata": {},
   "outputs": [
    {
     "name": "stdout",
     "output_type": "stream",
     "text": [
      "Datos de la gravedad sobre la Luna\n"
     ]
    }
   ],
   "source": [
    "nombre = \"Luna\"\n",
    "gravedad = 0.00162 # in kms\n",
    "planeta = \"Tierra\"\n",
    "titulo = (f'Datos de la gravedad sobre la {nombre}')\n",
    "print(titulo)"
   ]
  },
  {
   "cell_type": "code",
   "execution_count": 64,
   "metadata": {},
   "outputs": [
    {
     "name": "stdout",
     "output_type": "stream",
     "text": [
      "--------------------------------------------------\n",
      "Nombre del planeta: Marte \n",
      "Gravedad: 1.4300000000000002 m/s2\n"
     ]
    }
   ],
   "source": [
    "hechos= f'''{'-'*50}\n",
    "Nombre del planeta: {planeta}\n",
    "Gravedad: {gravedad*1000} m/s2'''\n",
    "print(hechos)"
   ]
  },
  {
   "cell_type": "code",
   "execution_count": 63,
   "metadata": {},
   "outputs": [
    {
     "name": "stdout",
     "output_type": "stream",
     "text": [
      "--------------------------------------------------\n",
      "Nombre del planeta: Tierra\n",
      "Gravedad: 1.6199999999999999\n"
     ]
    }
   ],
   "source": [
    "planeta = 'Marte '\n",
    "gravedad  = 0.00143 \n",
    "nombre = 'Ganímedes'\n",
    "print(hechos)"
   ]
  },
  {
   "cell_type": "code",
   "execution_count": 62,
   "metadata": {},
   "outputs": [
    {
     "name": "stdout",
     "output_type": "stream",
     "text": [
      "--------------------------------------------------\n",
      "Nombre del planeta: Marte \n",
      "Gravedad: 1.4300000000000002m/s2\n"
     ]
    }
   ],
   "source": [
    "reemplazar= f'''{'-'*50}\n",
    "Nombre del planeta: {planeta}\n",
    "Gravedad: {gravedad*1000}m/s2'''\n",
    "print(reemplazar.format(planeta=planeta,gravedad=gravedad,nombre=nombre))"
   ]
  }
 ],
 "metadata": {
  "interpreter": {
   "hash": "5208ece860cd8f659edbc8d402425989a1be8cb2cbdc0b946175eff23c10f70c"
  },
  "kernelspec": {
   "display_name": "Python 3.10.2 64-bit",
   "language": "python",
   "name": "python3"
  },
  "language_info": {
   "codemirror_mode": {
    "name": "ipython",
    "version": 3
   },
   "file_extension": ".py",
   "mimetype": "text/x-python",
   "name": "python",
   "nbconvert_exporter": "python",
   "pygments_lexer": "ipython3",
   "version": "3.10.2"
  },
  "orig_nbformat": 4
 },
 "nbformat": 4,
 "nbformat_minor": 2
}
