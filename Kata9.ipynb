{
 "cells": [
  {
   "cell_type": "markdown",
   "metadata": {},
   "source": [
    "            Kata 9"
   ]
  },
  {
   "cell_type": "markdown",
   "metadata": {},
   "source": [
    "        Ejercicio 1"
   ]
  },
  {
   "cell_type": "code",
   "execution_count": 6,
   "metadata": {},
   "outputs": [
    {
     "name": "stdout",
     "output_type": "stream",
     "text": [
      "Reporte de combustible:\n",
      "    Promedio de combustible: 82.0%\n",
      "    Tanque principal: 90%\n",
      "    Tanque externo: 82%\n",
      "    Tanque hidrogeno: 74%\n",
      "    \n"
     ]
    }
   ],
   "source": [
    "def reporte (tanque_principal, tanque_externo, tanque_hidrogeno):\n",
    "    promedio_combustible = (tanque_principal+tanque_externo+tanque_hidrogeno) / 3\n",
    "    return f'''Reporte de combustible:\n",
    "    Promedio de combustible: {promedio_combustible}%\n",
    "    Tanque principal: {tanque_principal}%\n",
    "    Tanque externo: {tanque_externo}%\n",
    "    Tanque hidrogeno: {tanque_hidrogeno}%\n",
    "    '''\n",
    "print(reporte(90,82,74))"
   ]
  },
  {
   "cell_type": "code",
   "execution_count": 10,
   "metadata": {},
   "outputs": [
    {
     "data": {
      "text/plain": [
       "76.33333333333333"
      ]
     },
     "execution_count": 10,
     "metadata": {},
     "output_type": "execute_result"
    }
   ],
   "source": [
    "def promedio_combustible (values):\n",
    "    promedio=sum(values)\n",
    "    total_valores=len(values)\n",
    "    return promedio/total_valores\n",
    "promedio_combustible([53,78,98])"
   ]
  },
  {
   "cell_type": "code",
   "execution_count": 15,
   "metadata": {},
   "outputs": [
    {
     "name": "stdout",
     "output_type": "stream",
     "text": [
      "Reporte de combustible:\n",
      "    Promedio de combustible: 66.66666666666667%\n",
      "    Tanque principal: 79%\n",
      "    Tanque externo: 99%\n",
      "    Tanque hidrogeno: 22%\n",
      "    \n"
     ]
    }
   ],
   "source": [
    "def reporte (tanque_principal, tanque_externo, tanque_hidrogeno):\n",
    "    return f'''Reporte de combustible:\n",
    "    Promedio de combustible: {promedio_combustible([tanque_principal,tanque_externo,tanque_hidrogeno])}% \n",
    "    Tanque principal: {tanque_principal}%\n",
    "    Tanque externo: {tanque_externo}%\n",
    "    Tanque hidrogeno: {tanque_hidrogeno}%\n",
    "    '''\n",
    "print(reporte(79,99,22))"
   ]
  },
  {
   "cell_type": "markdown",
   "metadata": {},
   "source": [
    "        Ejercicio 2"
   ]
  },
  {
   "cell_type": "code",
   "execution_count": 25,
   "metadata": {},
   "outputs": [
    {
     "name": "stdout",
     "output_type": "stream",
     "text": [
      " Reporte de Lanzamiento\n",
      "    El destino es Marte\n",
      "    El tiempo de vuelo es 22 minutos\n",
      "    Los niveles de los tanques son: 105000 galones\n",
      "    \n"
     ]
    }
   ],
   "source": [
    "def cohete (hora_prelanzamiento, tiempo_vuelo, destino, tanque_externo, tanque_interno):\n",
    "    return f''' Reporte de Lanzamiento\n",
    "    El destino es {destino}\n",
    "    El tiempo de vuelo es {tiempo_vuelo+hora_prelanzamiento} minutos\n",
    "    Los niveles de combustible son: {tanque_interno+tanque_externo} galones\n",
    "    '''\n",
    "print(cohete(7,15,'Marte',25000,80000))  "
   ]
  },
  {
   "cell_type": "code",
   "execution_count": 44,
   "metadata": {},
   "outputs": [
    {
     "name": "stdout",
     "output_type": "stream",
     "text": [
      " Reporte de Lanzamiento\n",
      "    El destino es Marte\n",
      "    El tiempo de vuelo son 134 minuto(s)\n",
      "    Los niveles de combustible son: 198580 galon(es)\n",
      "    En el tanque externo hay 25000 galones de combustible\n",
      "    En el tanque interno hay 80000 galones de combustible\n",
      "    En el tanque principal hay 93580 galones de combustible\n",
      "    \n"
     ]
    }
   ],
   "source": [
    "def cohete (destino,*minutos, **combustible):\n",
    "    reporte_combustible = f''' Reporte de Lanzamiento\n",
    "    El destino es {destino}\n",
    "    El tiempo de vuelo son {sum(minutos)} minuto(s)\n",
    "    Los niveles de combustible son: {sum(combustible.values())} galon(es)\n",
    "    '''\n",
    "    for tanque, galones in combustible.items():\n",
    "     reporte_combustible+=f'''En el tanque {tanque} hay {galones} galones de combustible\n",
    "    '''\n",
    "    return reporte_combustible\n",
    "print(cohete('Marte',7,15,22,90,externo=25000,interno=80000,principal=93580)) "
   ]
  }
 ],
 "metadata": {
  "interpreter": {
   "hash": "5208ece860cd8f659edbc8d402425989a1be8cb2cbdc0b946175eff23c10f70c"
  },
  "kernelspec": {
   "display_name": "Python 3.10.2 64-bit",
   "language": "python",
   "name": "python3"
  },
  "language_info": {
   "codemirror_mode": {
    "name": "ipython",
    "version": 3
   },
   "file_extension": ".py",
   "mimetype": "text/x-python",
   "name": "python",
   "nbconvert_exporter": "python",
   "pygments_lexer": "ipython3",
   "version": "3.10.2"
  },
  "orig_nbformat": 4
 },
 "nbformat": 4,
 "nbformat_minor": 2
}
