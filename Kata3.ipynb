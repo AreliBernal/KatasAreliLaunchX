{
 "cells": [
  {
   "cell_type": "markdown",
   "metadata": {},
   "source": [
    "                Kata 3"
   ]
  },
  {
   "cell_type": "markdown",
   "metadata": {},
   "source": [
    "        Ejercicio if"
   ]
  },
  {
   "cell_type": "code",
   "execution_count": 2,
   "metadata": {},
   "outputs": [
    {
     "name": "stdout",
     "output_type": "stream",
     "text": [
      "Se acerca un asteroide\n"
     ]
    }
   ],
   "source": [
    "#Ejercicio 1\n",
    "asteroide=49\n",
    "if asteroide>25:\n",
    "    print(\"Se acerca un asteroide\")\n",
    "else:\n",
    "    print(\"Bonito dia\")"
   ]
  },
  {
   "cell_type": "code",
   "execution_count": 3,
   "metadata": {},
   "outputs": [
    {
     "name": "stdout",
     "output_type": "stream",
     "text": [
      "Bonito dia\n"
     ]
    }
   ],
   "source": [
    "#Ejercicio 2\n",
    "asteroide=19\n",
    "if asteroide>20:\n",
    "    print(\"Se puede ver un rayo de luz\")\n",
    "elif asteroide==20:\n",
    "    print(\"Se puede ver un rayo de luz\")\n",
    "else: print(\"Bonito dia\")"
   ]
  },
  {
   "cell_type": "markdown",
   "metadata": {},
   "source": [
    "        Ejercicio and & or"
   ]
  },
  {
   "cell_type": "code",
   "execution_count": 5,
   "metadata": {},
   "outputs": [
    {
     "name": "stdout",
     "output_type": "stream",
     "text": [
      "Bonito día\n"
     ]
    }
   ],
   "source": [
    "#Ejercicio 3\n",
    "asteroide=20\n",
    "velocidad=20\n",
    "if asteroide>25 and velocidad >25:\n",
    "    print (\"PELIGRO\")\n",
    "elif asteroide>25 or velocidad >25:\n",
    "    print( \"Tal vez hay una luz en el cielo\")\n",
    "else: print(\"Bonito día\")"
   ]
  }
 ],
 "metadata": {
  "interpreter": {
   "hash": "5208ece860cd8f659edbc8d402425989a1be8cb2cbdc0b946175eff23c10f70c"
  },
  "kernelspec": {
   "display_name": "Python 3.10.2 64-bit",
   "language": "python",
   "name": "python3"
  },
  "language_info": {
   "codemirror_mode": {
    "name": "ipython",
    "version": 3
   },
   "file_extension": ".py",
   "mimetype": "text/x-python",
   "name": "python",
   "nbconvert_exporter": "python",
   "pygments_lexer": "ipython3",
   "version": "3.10.2"
  },
  "orig_nbformat": 4
 },
 "nbformat": 4,
 "nbformat_minor": 2
}
